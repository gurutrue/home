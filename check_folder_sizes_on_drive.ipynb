{
 "cells": [
  {
   "cell_type": "markdown",
   "metadata": {},
   "source": [
    "## Folder Size Scanner for Subdirectories\n",
    "\n",
    "This script scans all **subdirectories inside a specific folder** and prints the size of each one in a human-readable format (KB, MB, GB, etc). It's designed to help you quickly see which folders are using the most space inside a media library, project directory, or any other folder with multiple subfolders.\n",
    "\n",
    "### What the Script Does\n",
    "\n",
    "1. **Target Folder Selection**  \n",
    "   The user sets a path to the folder they want to scan by updating the `target_folder` variable. This should point to a specific directory, not a drive root. For example:  \n",
    "   `\"E:\\\\TV SHOWS\\\\\"`\n",
    "\n",
    "2. **Scan Subdirectories Only**  \n",
    "   The script loops through just the **top-level subfolders** inside the selected folder. It does not scan the drive or other unrelated directories.\n",
    "\n",
    "3. **Calculate Folder Sizes**  \n",
    "   For each subdirectory, it uses `os.walk()` to recursively sum up the sizes of all files inside that folder (including files in subfolders).\n",
    "\n",
    "4. **Convert to Readable Format**  \n",
    "   The total size in bytes is converted to a human-friendly format like GB or MB using a simple helper function.\n",
    "\n",
    "5. **Print Results**  \n",
    "   The folder name and size are printed out one by one so you can quickly see which subdirectories take up the most space.\n",
    "\n",
    "### Why Use This Script?\n",
    "\n",
    "- Great for managing large collections like movies, TV shows, or project folders.\n",
    "- Helps spot which folders are using the most disk space.\n",
    "- Easy to customize and run on any directory by changing one variable.\n",
    "- Works directly in Jupyter Notebooks or as a standalone Python script.\n",
    "\n"
   ]
  },
  {
   "cell_type": "code",
   "execution_count": 5,
   "metadata": {},
   "outputs": [
    {
     "name": "stdout",
     "output_type": "stream",
     "text": [
      "Scanning subdirectories in: E:\\TV SHOWS\\\n",
      "\n",
      "3rd Rock from the Sun: 7.33 GB\n",
      "Clerks The Animated Series: 1.92 GB\n",
      "Drawn Together S01-S03 (2004-) + Movie (2010): 1.47 GB\n",
      "Good Times S01-S06 (1974-1980): 35.09 GB\n",
      "I Love Lucy: 23.47 GB\n",
      "In Living Color: 8.56 GB\n",
      "Interview with the Vampire: 2.80 GB\n",
      "King of the Hill S01-S13 (1997-): 62.08 GB\n",
      "P-Valley: 7.56 GB\n",
      "Police Squad 1982-1994: 5.34 GB\n",
      "POWER (2014-2020): 35.24 GB\n",
      "POWER Book II Ghost: 12.04 GB\n",
      "POWER Book III Raising Kanan: 6.23 GB\n",
      "Power Book IV Force: 6.24 GB\n",
      "ReBoot: 33.63 GB\n",
      "Rick and Morty The Anime: 3.18 GB\n",
      "Roc S01-S03 1991: 26.38 GB\n",
      "Sanford And Son S01-S06: 23.06 GB\n",
      "Tales from the Crypt: 8.25 GB\n",
      "The Andy Griffith Show S01-S08 (1960-): 16.83 GB\n",
      "The Boondocks: 5.84 GB\n",
      "The Golden Girls: 41.56 GB\n",
      "The IT Crowd S01-S05: 4.88 GB\n",
      "The Maxx: 1.74 GB\n",
      "The Munsters S01-S02 (1964-): 3.26 GB\n",
      "The Outer Limits S01-S02 (1963-): 6.25 GB\n",
      "The Outer Limits S01-S07 (1995-): 15.35 GB\n",
      "The Simpsons: 3.16 GB\n",
      "Thundercats 1985: 2.60 GB\n",
      "Thundercats 2011: 6.29 GB\n",
      "Tripping The Rift - The Movie: 1.94 GB\n"
     ]
    }
   ],
   "source": [
    "import os\n",
    "from pathlib import Path\n",
    "\n",
    "# Set the specific folder you want to scan\n",
    "target_folder = \"E:\\\\TV SHOWS\\\\\"  # <-- change this if needed\n",
    "\n",
    "def get_folder_size(path):\n",
    "    total_size = 0\n",
    "    for dirpath, dirnames, filenames in os.walk(path):\n",
    "        for f in filenames:\n",
    "            try:\n",
    "                fp = os.path.join(dirpath, f)\n",
    "                if os.path.exists(fp):\n",
    "                    total_size += os.path.getsize(fp)\n",
    "            except Exception:\n",
    "                pass\n",
    "    return total_size\n",
    "\n",
    "def bytes_to_readable(size):\n",
    "    for unit in ['B', 'KB', 'MB', 'GB', 'TB']:\n",
    "        if size < 1024:\n",
    "            return f\"{size:.2f} {unit}\"\n",
    "        size /= 1024\n",
    "\n",
    "print(f\"Scanning subdirectories in: {target_folder}\\n\")\n",
    "with os.scandir(target_folder) as entries:\n",
    "    for entry in entries:\n",
    "        if entry.is_dir():\n",
    "            size = get_folder_size(entry.path)\n",
    "            readable = bytes_to_readable(size)\n",
    "            print(f\"{entry.name}: {readable}\")\n"
   ]
  }
 ],
 "metadata": {
  "kernelspec": {
   "display_name": "Python 3",
   "language": "python",
   "name": "python3"
  },
  "language_info": {
   "codemirror_mode": {
    "name": "ipython",
    "version": 3
   },
   "file_extension": ".py",
   "mimetype": "text/x-python",
   "name": "python",
   "nbconvert_exporter": "python",
   "pygments_lexer": "ipython3",
   "version": "3.13.2"
  }
 },
 "nbformat": 4,
 "nbformat_minor": 2
}
