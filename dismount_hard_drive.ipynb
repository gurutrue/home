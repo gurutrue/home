{
 "cells": [
  {
   "cell_type": "markdown",
   "metadata": {},
   "source": [
    "This script will:\n",
    "1. Check if drive_letter variable that you specify is still mounted\n",
    "2. If it is, it tries to dismount it\n",
    "3. If it cant, it'll give you an error"
   ]
  },
  {
   "cell_type": "code",
   "execution_count": 1,
   "metadata": {},
   "outputs": [
    {
     "name": "stdout",
     "output_type": "stream",
     "text": [
      "G: is currently mounted. Attempting to dismount...\n",
      "G: is now ready to eject.\n",
      "Dismount successful. You can now safely eject the drive.\n"
     ]
    }
   ],
   "source": [
    "import win32file\n",
    "import win32api\n",
    "import win32con\n",
    "\n",
    "# Set your drive letter here (just the letter, no colon)\n",
    "drive_letter = \"G\"\n",
    "\n",
    "def is_drive_mounted(drive_letter):\n",
    "    try:\n",
    "        win32api.GetVolumeInformation(drive_letter + \":\\\\\")\n",
    "        return True\n",
    "    except:\n",
    "        return False\n",
    "\n",
    "def dismount_drive(drive_letter):\n",
    "    drive_path = f\"\\\\\\\\.\\\\{drive_letter}:\"\n",
    "    handle = win32file.CreateFile(\n",
    "        drive_path,\n",
    "        win32con.GENERIC_READ,\n",
    "        win32con.FILE_SHARE_READ | win32con.FILE_SHARE_WRITE,\n",
    "        None,\n",
    "        win32con.OPEN_EXISTING,\n",
    "        0,\n",
    "        None\n",
    "    )\n",
    "    win32file.DeviceIoControl(\n",
    "        handle,\n",
    "        0x00090020,  # IOCTL_STORAGE_MEDIA_REMOVAL\n",
    "        b'\\x01',     # Allow removal\n",
    "        0,\n",
    "        None\n",
    "    )\n",
    "    handle.Close()\n",
    "    print(f\"{drive_letter}: is now ready to eject.\")\n",
    "\n",
    "def main():\n",
    "    if is_drive_mounted(drive_letter):\n",
    "        print(f\"{drive_letter}: is currently mounted. Attempting to dismount...\")\n",
    "        try:\n",
    "            dismount_drive(drive_letter)\n",
    "            print(\"Dismount successful. You can now safely eject the drive.\")\n",
    "        except Exception as e:\n",
    "            print(f\"Error while dismounting: {e}\")\n",
    "    else:\n",
    "        print(f\"{drive_letter}: is already unmounted or not accessible.\")\n",
    "\n",
    "if __name__ == \"__main__\":\n",
    "    main()\n"
   ]
  }
 ],
 "metadata": {
  "kernelspec": {
   "display_name": "Python 3",
   "language": "python",
   "name": "python3"
  },
  "language_info": {
   "codemirror_mode": {
    "name": "ipython",
    "version": 3
   },
   "file_extension": ".py",
   "mimetype": "text/x-python",
   "name": "python",
   "nbconvert_exporter": "python",
   "pygments_lexer": "ipython3",
   "version": "3.13.2"
  }
 },
 "nbformat": 4,
 "nbformat_minor": 2
}
